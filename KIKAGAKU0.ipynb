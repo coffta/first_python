{
  "nbformat": 4,
  "nbformat_minor": 0,
  "metadata": {
    "colab": {
      "provenance": [],
      "gpuType": "T4",
      "authorship_tag": "ABX9TyNxHP6k5ja4b3y5Zlh12N9k",
      "include_colab_link": true
    },
    "kernelspec": {
      "name": "python3",
      "display_name": "Python 3"
    },
    "language_info": {
      "name": "python"
    },
    "accelerator": "GPU"
  },
  "cells": [
    {
      "cell_type": "markdown",
      "metadata": {
        "id": "view-in-github",
        "colab_type": "text"
      },
      "source": [
        "<a href=\"https://colab.research.google.com/github/coffta/first_python/blob/main/KIKAGAKU0.ipynb\" target=\"_parent\"><img src=\"https://colab.research.google.com/assets/colab-badge.svg\" alt=\"Open In Colab\"/></a>"
      ]
    },
    {
      "cell_type": "code",
      "source": [
        "import numpy as np\n",
        "np.__version__\n"
      ],
      "metadata": {
        "colab": {
          "base_uri": "https://localhost:8080/",
          "height": 35
        },
        "id": "Qb_vS--v77FD",
        "outputId": "16d9fbe6-6e94-40c4-8fb4-757877c3e798"
      },
      "execution_count": null,
      "outputs": [
        {
          "output_type": "execute_result",
          "data": {
            "text/plain": [
              "'1.23.5'"
            ],
            "application/vnd.google.colaboratory.intrinsic+json": {
              "type": "string"
            }
          },
          "metadata": {},
          "execution_count": 35
        }
      ]
    },
    {
      "cell_type": "code",
      "source": [
        "x = np.array([20, 40, 60])\n",
        "x"
      ],
      "metadata": {
        "colab": {
          "base_uri": "https://localhost:8080/"
        },
        "id": "Q-LZdu-l8Btj",
        "outputId": "3727f4e0-2ed5-4105-a454-553035cade3f"
      },
      "execution_count": null,
      "outputs": [
        {
          "output_type": "execute_result",
          "data": {
            "text/plain": [
              "array([20, 40, 60])"
            ]
          },
          "metadata": {},
          "execution_count": 36
        }
      ]
    },
    {
      "cell_type": "code",
      "source": [
        "t = np.array([60000, 115000, 155000])\n",
        "t"
      ],
      "metadata": {
        "colab": {
          "base_uri": "https://localhost:8080/"
        },
        "id": "XF3B4N778F5a",
        "outputId": "c426638c-1f7e-42e4-9f90-3223f66495d3"
      },
      "execution_count": null,
      "outputs": [
        {
          "output_type": "execute_result",
          "data": {
            "text/plain": [
              "array([ 60000, 115000, 155000])"
            ]
          },
          "metadata": {},
          "execution_count": 37
        }
      ]
    },
    {
      "cell_type": "code",
      "source": [
        "x_mean = x.mean()\n",
        "x.mean()"
      ],
      "metadata": {
        "colab": {
          "base_uri": "https://localhost:8080/"
        },
        "id": "LMUbaA5AxBcH",
        "outputId": "b74eb971-713b-4d49-d2da-3601ed58cde9"
      },
      "execution_count": null,
      "outputs": [
        {
          "output_type": "execute_result",
          "data": {
            "text/plain": [
              "40.0"
            ]
          },
          "metadata": {},
          "execution_count": 38
        }
      ]
    },
    {
      "cell_type": "code",
      "source": [
        "t_mean = t.mean()\n",
        "t.mean()"
      ],
      "metadata": {
        "colab": {
          "base_uri": "https://localhost:8080/"
        },
        "id": "Wn2YbJRUxlWT",
        "outputId": "6234c009-91a3-4b92-ef6a-53ea5ca44812"
      },
      "execution_count": null,
      "outputs": [
        {
          "output_type": "execute_result",
          "data": {
            "text/plain": [
              "110000.0"
            ]
          },
          "metadata": {},
          "execution_count": 39
        }
      ]
    },
    {
      "cell_type": "code",
      "source": [
        "#　x　の中心化\n",
        "xc = x - x_mean\n",
        "xc"
      ],
      "metadata": {
        "colab": {
          "base_uri": "https://localhost:8080/"
        },
        "id": "loRprSZ1x8NB",
        "outputId": "d664fc38-12a6-41d0-8db3-26417436d57b"
      },
      "execution_count": null,
      "outputs": [
        {
          "output_type": "execute_result",
          "data": {
            "text/plain": [
              "array([-20.,   0.,  20.])"
            ]
          },
          "metadata": {},
          "execution_count": 40
        }
      ]
    },
    {
      "cell_type": "code",
      "source": [
        "#　t　の中心化\n",
        "tc = t- t_mean\n",
        "tc"
      ],
      "metadata": {
        "colab": {
          "base_uri": "https://localhost:8080/"
        },
        "id": "ZLVUztvjyjsN",
        "outputId": "82ffc0b7-79ef-4720-bae0-279ccd5f4e4b"
      },
      "execution_count": null,
      "outputs": [
        {
          "output_type": "execute_result",
          "data": {
            "text/plain": [
              "array([-50000.,   5000.,  45000.])"
            ]
          },
          "metadata": {},
          "execution_count": 41
        }
      ]
    },
    {
      "cell_type": "markdown",
      "source": [
        "最適なパラメータ\n",
        "\n",
        "$$\n",
        "w = \\dfrac{\\sum_{n-1}^{N} x_nt_n}{\\sum_{n=1}^{N} x_nx_n^2}\n",
        "$$\n",
        "\n",
        "を求めます。\n",
        "\n",
        "まずは分子\n",
        "\n",
        "$$\n",
        "{\\sum_{n-1}^{N} x_nt_n}\n",
        "$$\n",
        "\n",
        "を求めます。"
      ],
      "metadata": {
        "id": "cdk1ZvBszOt8"
      }
    },
    {
      "cell_type": "code",
      "source": [
        "#要素ごとの積\n",
        "xc * tc"
      ],
      "metadata": {
        "colab": {
          "base_uri": "https://localhost:8080/"
        },
        "id": "pMsyPD72ytW7",
        "outputId": "a4fbdc4f-eef5-4432-d308-b97a44b4c903"
      },
      "execution_count": null,
      "outputs": [
        {
          "output_type": "execute_result",
          "data": {
            "text/plain": [
              "array([1000000.,       0.,  900000.])"
            ]
          },
          "metadata": {},
          "execution_count": 44
        }
      ]
    },
    {
      "cell_type": "code",
      "source": [
        "#要素ごとの積の総和\n",
        "(xc * tc).sum()"
      ],
      "metadata": {
        "colab": {
          "base_uri": "https://localhost:8080/"
        },
        "id": "At6lHJyA2_k3",
        "outputId": "2b20aaa5-f501-49ba-a18d-cb6a858d7aef"
      },
      "execution_count": null,
      "outputs": [
        {
          "output_type": "execute_result",
          "data": {
            "text/plain": [
              "1900000.0"
            ]
          },
          "metadata": {},
          "execution_count": 43
        }
      ]
    },
    {
      "cell_type": "markdown",
      "source": [
        "分母\n",
        "\n",
        "$$\n",
        "{\\sum_{n=1}^{N} x_nx_n^2}\n",
        "$$\n",
        "\n",
        "を求めます。"
      ],
      "metadata": {
        "id": "rmPpnadQ3dzp"
      }
    },
    {
      "cell_type": "code",
      "source": [
        "xc * xc"
      ],
      "metadata": {
        "colab": {
          "base_uri": "https://localhost:8080/"
        },
        "id": "t6QhROzK31-L",
        "outputId": "55d65c73-f5a1-443c-bba2-7f6b662bedd8"
      },
      "execution_count": null,
      "outputs": [
        {
          "output_type": "execute_result",
          "data": {
            "text/plain": [
              "array([400.,   0., 400.])"
            ]
          },
          "metadata": {},
          "execution_count": 45
        }
      ]
    },
    {
      "cell_type": "code",
      "source": [
        "(xc * xc).sum()"
      ],
      "metadata": {
        "colab": {
          "base_uri": "https://localhost:8080/"
        },
        "id": "JFgU4n774hxw",
        "outputId": "2c0b06dc-6bcd-435b-a5d1-e6222941d720"
      },
      "execution_count": null,
      "outputs": [
        {
          "output_type": "execute_result",
          "data": {
            "text/plain": [
              "800.0"
            ]
          },
          "metadata": {},
          "execution_count": 46
        }
      ]
    },
    {
      "cell_type": "code",
      "source": [
        "#最適なパラメータ\n",
        "w = (xc * tc).sum() / (xc * xc).sum()\n",
        "w"
      ],
      "metadata": {
        "colab": {
          "base_uri": "https://localhost:8080/"
        },
        "id": "Pj3EGOvl4lWb",
        "outputId": "58ac8019-7eba-4133-fd50-6928f0eb16ae"
      },
      "execution_count": null,
      "outputs": [
        {
          "output_type": "execute_result",
          "data": {
            "text/plain": [
              "2375.0"
            ]
          },
          "metadata": {},
          "execution_count": 47
        }
      ]
    },
    {
      "cell_type": "markdown",
      "source": [
        "こちらのパラメータを用いて、$x = 50$の場合の予測値 $y$ を求めます。\n",
        "\n",
        "$$\n",
        "\\begin{aligned}\n",
        "y_{c} &= w x_{c} \\\\\n",
        "y - \\bar{t} &= w (x = \\bar{x})\\\\\n",
        "y &= \\bar{t} + w (x = \\bar{x})\n",
        "\\end{aligned}\n",
        "$$"
      ],
      "metadata": {
        "id": "Sx99eR7G5STa"
      }
    },
    {
      "cell_type": "code",
      "source": [
        "x = 50\n",
        "y = w * (x - x_mean) + t_mean\n",
        "y"
      ],
      "metadata": {
        "colab": {
          "base_uri": "https://localhost:8080/"
        },
        "id": "JV65XTwG7BD1",
        "outputId": "4600a048-4695-495a-c980-56c0c83f90fe"
      },
      "execution_count": null,
      "outputs": [
        {
          "output_type": "execute_result",
          "data": {
            "text/plain": [
              "110500.0"
            ]
          },
          "metadata": {},
          "execution_count": 55
        }
      ]
    },
    {
      "cell_type": "code",
      "source": [],
      "metadata": {
        "id": "sOwy0eTn809O"
      },
      "execution_count": null,
      "outputs": []
    }
  ]
}